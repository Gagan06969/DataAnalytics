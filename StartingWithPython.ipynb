{
  "nbformat": 4,
  "nbformat_minor": 0,
  "metadata": {
    "colab": {
      "provenance": [],
      "authorship_tag": "ABX9TyOCo56jlBwbSqnJ/PO63yFh",
      "include_colab_link": true
    },
    "kernelspec": {
      "name": "python3",
      "display_name": "Python 3"
    },
    "language_info": {
      "name": "python"
    }
  },
  "cells": [
    {
      "cell_type": "markdown",
      "metadata": {
        "id": "view-in-github",
        "colab_type": "text"
      },
      "source": [
        "<a href=\"https://colab.research.google.com/github/Gagan06969/DataAnalytics/blob/main/StartingWithPython.ipynb\" target=\"_parent\"><img src=\"https://colab.research.google.com/assets/colab-badge.svg\" alt=\"Open In Colab\"/></a>"
      ]
    },
    {
      "cell_type": "code",
      "execution_count": null,
      "metadata": {
        "id": "bbyOgQWsO4F6"
      },
      "outputs": [],
      "source": []
    },
    {
      "cell_type": "code",
      "source": [
        "print(\"Hello World\")"
      ],
      "metadata": {
        "colab": {
          "base_uri": "https://localhost:8080/"
        },
        "id": "m9oHPLQ4PJNA",
        "outputId": "7e81c383-02b7-4195-b32b-980b8552f6ab"
      },
      "execution_count": 1,
      "outputs": [
        {
          "output_type": "stream",
          "name": "stdout",
          "text": [
            "Hello World\n"
          ]
        }
      ]
    },
    {
      "cell_type": "code",
      "source": [
        "a=\"Hello\"\n",
        "print(a)"
      ],
      "metadata": {
        "colab": {
          "base_uri": "https://localhost:8080/"
        },
        "id": "jqEmLcmRQfSt",
        "outputId": "6eb47119-214c-4b14-c9dc-82d8baf35659"
      },
      "execution_count": 2,
      "outputs": [
        {
          "output_type": "stream",
          "name": "stdout",
          "text": [
            "hello\n"
          ]
        }
      ]
    },
    {
      "cell_type": "code",
      "source": [
        "name=input(\"Enter your name:\")\n",
        "print(name)\n",
        "age=int(input(\"What is your Age? \"))\n",
        "print(age)\n",
        "print(\"Your name is \"+name)"
      ],
      "metadata": {
        "colab": {
          "base_uri": "https://localhost:8080/"
        },
        "id": "sWcvcz_bRfzs",
        "outputId": "e6acd9b5-a094-4864-f8b6-bf99ae21b357"
      },
      "execution_count": 6,
      "outputs": [
        {
          "output_type": "stream",
          "name": "stdout",
          "text": [
            "Enter your name:GAgan\n",
            "GAgan\n",
            "What is your Age? 22\n",
            "22\n",
            "Your name isGAgan\n"
          ]
        }
      ]
    },
    {
      "cell_type": "code",
      "source": [
        "#WAP to dis name age & add\n",
        "name=input(\"Enter your name:\")\n",
        "print(name)\n",
        "age=int(input(\"What is your Age? \"))\n",
        "print(age)\n",
        "add=input(\"enter Your Address-> \")\n",
        "print(name,age,add)\n",
        "#WAP to swap numbers\n",
        "#WAP convert float to integer\n"
      ],
      "metadata": {
        "colab": {
          "base_uri": "https://localhost:8080/"
        },
        "id": "chGnAUqCURln",
        "outputId": "33fe846f-84a7-4274-fd85-1a4e07a9bb2f"
      },
      "execution_count": 7,
      "outputs": [
        {
          "output_type": "stream",
          "name": "stdout",
          "text": [
            "Enter your name:Gagan\n",
            "Gagan\n",
            "What is your Age? 22\n",
            "22\n",
            "enter Your Address-> Shivsankalp Mumbai\n",
            "Gagan 22 Shivsankalp Mumbai\n"
          ]
        }
      ]
    }
  ]
}